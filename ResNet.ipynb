{
  "nbformat": 4,
  "nbformat_minor": 0,
  "metadata": {
    "colab": {
      "provenance": [],
      "authorship_tag": "ABX9TyN9slOMhxvqxRcu4SV01ES3",
      "include_colab_link": true
    },
    "kernelspec": {
      "name": "python3",
      "display_name": "Python 3"
    },
    "language_info": {
      "name": "python"
    }
  },
  "cells": [
    {
      "cell_type": "markdown",
      "metadata": {
        "id": "view-in-github",
        "colab_type": "text"
      },
      "source": [
        "<a href=\"https://colab.research.google.com/github/tony3ynot/ResNet-for-ImageNet-and-CIFAR/blob/main/ResNet_(for_ImageNet%2C_CIFAR_10_100).ipynb\" target=\"_parent\"><img src=\"https://colab.research.google.com/assets/colab-badge.svg\" alt=\"Open In Colab\"/></a>"
      ]
    },
    {
      "cell_type": "code",
      "execution_count": 2,
      "metadata": {
        "id": "OSFW7FidKEo8"
      },
      "outputs": [],
      "source": [
        "import torch\n",
        "from torch import nn"
      ]
    },
    {
      "cell_type": "code",
      "source": [
        "from google.colab import drive\n",
        "drive.mount('/content/drive')"
      ],
      "metadata": {
        "colab": {
          "base_uri": "https://localhost:8080/"
        },
        "id": "Isr4w_8DxIwI",
        "outputId": "bec856b3-6c49-45bc-9d52-dc2195430938"
      },
      "execution_count": 3,
      "outputs": [
        {
          "output_type": "stream",
          "name": "stdout",
          "text": [
            "Mounted at /content/drive\n"
          ]
        }
      ]
    },
    {
      "cell_type": "markdown",
      "source": [
        "# 1. Original ResNet (designed for ImageNet classification)"
      ],
      "metadata": {
        "id": "5dDudppCxdpS"
      }
    },
    {
      "cell_type": "code",
      "source": [
        "class BasicBlock(nn.Module):\n",
        "    expansion = 1\n",
        "    def __init__(self, in_channels, inner_channels, stride = 1, projection = None):\n",
        "        super().__init__()\n",
        "\n",
        "        self.residual = nn.Sequential(nn.Conv2d(in_channels, inner_channels, 3, stride=stride, padding=1, bias=False),\n",
        "                                      nn.BatchNorm2d(inner_channels),\n",
        "                                      nn.ReLU(inplace=True),\n",
        "                                      nn.Conv2d(inner_channels, inner_channels * self.expansion, 3, padding=1, bias=False),\n",
        "                                      nn.BatchNorm2d(inner_channels))\n",
        "        self.projection = projection\n",
        "        self.relu = nn.ReLU(inplace=True)\n",
        "\n",
        "    def forward(self, x):\n",
        "        residual = self.residual(x)\n",
        "\n",
        "        # projection shortcut & identity shortcut\n",
        "        if self.projection is not None:\n",
        "            shortcut = self.projection(x)\n",
        "        else:\n",
        "            shortcut = x\n",
        "\n",
        "        out = self.relu(residual + shortcut)\n",
        "        return out\n",
        "\n",
        "\n",
        "# Bottleneck for ResNet-50/101/152\n",
        "# downsampling stride at 3x3 convolution, instead of the first 1x1 convolution (original paper)\n",
        "# A.K.A ResNet V1.5 (https://ngc.nvidia.com/catalog/model-scripts/nvidia:resnet_50_v1_5_for_pytorch)\n",
        "class Bottleneck(nn.Module):\n",
        "    expansion = 4\n",
        "    def __init__(self, in_channels, inner_channels, stride = 1, projection = None):\n",
        "        super().__init__()\n",
        "\n",
        "        # bottleneck structure\n",
        "        self.residual = nn.Sequential(nn.Conv2d(in_channels, inner_channels, 1, bias=False),\n",
        "                                      nn.BatchNorm2d(inner_channels),\n",
        "                                      nn.ReLU(inplace=True),\n",
        "                                      nn.Conv2d(inner_channels, inner_channels, 3, stride=stride, padding=1, bias=False),\n",
        "                                      nn.BatchNorm2d(inner_channels),\n",
        "                                      nn.ReLU(inplace=True),\n",
        "                                      nn.Conv2d(inner_channels, inner_channels * self.expansion, 1, bias=False),\n",
        "                                      nn.BatchNorm2d(inner_channels * self.expansion))\n",
        "        self.projection = projection\n",
        "        self.relu = nn.ReLU(inplace=True)\n",
        "\n",
        "    def forward(self, x):\n",
        "        residual = self.residual(x)\n",
        "\n",
        "        # projection shortcut & identity shortcut\n",
        "        if self.projection is not None:\n",
        "            shortcut = self.projection(x)\n",
        "        else:\n",
        "            shortcut = x\n",
        "\n",
        "        out = self.relu(residual + shortcut)\n",
        "        return out\n",
        "\n",
        "\n",
        "# ResNet Architecture (ImageNet)\n",
        "class ResNet(nn.Module):\n",
        "    def __init__(self, block, num_block_list, num_classes = 1000, zero_init_residual = True):\n",
        "        super().__init__()\n",
        "\n",
        "        self.in_channels = 64\n",
        "\n",
        "        self.conv1 = nn.Conv2d(3, 64, kernel_size=7, stride=2, padding=3, bias=False)\n",
        "        self.bn1 = nn.BatchNorm2d(64)\n",
        "        self.relu = nn.ReLU(inplace=True)\n",
        "        self.maxpool = nn.MaxPool2d(kernel_size=3, stride=2, padding=1)\n",
        "        self.stage1 = self.make_stage(block, 64, num_block_list[0], stride=1)\n",
        "        self.stage2 = self.make_stage(block, 128, num_block_list[1], stride=2)\n",
        "        self.stage3 = self.make_stage(block, 256, num_block_list[2], stride=2)\n",
        "        self.stage4 = self.make_stage(block, 512, num_block_list[3], stride=2)\n",
        "        self.avgpool = nn.AdaptiveAvgPool2d((1,1))\n",
        "        self.fc = nn.Linear(512 * block.expansion, num_classes)\n",
        "\n",
        "        # weight initialization\n",
        "        for m in self.modules():\n",
        "            if isinstance(m, nn.Conv2d):\n",
        "                nn.init.kaiming_normal_(m.weight, mode='fan_out', nonlinearity='relu')\n",
        "\n",
        "        # zero-initialize the last BN in each residual branch\n",
        "        # 0.2~0.3%p accuracy gain according to https://arxiv.org/abs/1706.02677\n",
        "        if zero_init_residual:\n",
        "            for m in self.modules():\n",
        "                if isinstance(m, block):\n",
        "                    nn.init.constant_(m.residual[-1].weight, 0)\n",
        "\n",
        "    def make_stage(self, block, inner_channels, num_blocks, stride=1):\n",
        "        # projection shortcut when downsampling / dimension-matching\n",
        "        if stride != 1 or self.in_channels != inner_channels * block.expansion:\n",
        "            projection = nn.Sequential(\n",
        "                nn.Conv2d(self.in_channels, inner_channels * block.expansion, 1, stride=stride, bias=False),\n",
        "                nn.BatchNorm2d(inner_channels * block.expansion))\n",
        "        # identity shortcut otherwise\n",
        "        else:\n",
        "            projection = None\n",
        "\n",
        "        layers = []\n",
        "        layers += [block(self.in_channels, inner_channels, stride, projection)] # projection only in the first block\n",
        "        self.in_channels = inner_channels * block.expansion\n",
        "\n",
        "        for _ in range(1, num_blocks):\n",
        "            layers += [block(self.in_channels, inner_channels)]\n",
        "\n",
        "        return nn.Sequential(*layers)\n",
        "\n",
        "    def forward(self, x):\n",
        "        x = self.conv1(x)\n",
        "        x = self.bn1(x)\n",
        "        x = self.relu(x)\n",
        "        x = self.maxpool(x)\n",
        "\n",
        "        x = self.stage1(x)\n",
        "        x = self.stage2(x)\n",
        "        x = self.stage3(x)\n",
        "        x = self.stage4(x)\n",
        "\n",
        "        x = self.avgpool(x)\n",
        "        x = torch.flatten(x, 1)\n",
        "        x = self.fc(x)\n",
        "        return x"
      ],
      "metadata": {
        "id": "TYLBDKHPKX_R"
      },
      "execution_count": 4,
      "outputs": []
    },
    {
      "cell_type": "code",
      "source": [
        "# ResNet models\n",
        "def resnet18(**kwargs):\n",
        "    return ResNet(BasicBlock, [2,2,2,2], **kwargs)\n",
        "\n",
        "def resnet34(**kwargs):\n",
        "    return ResNet(BasicBlock, [3,4,6,3], **kwargs)\n",
        "\n",
        "def resnet50(**kwargs):\n",
        "    return ResNet(Bottleneck, [3,4,6,3], **kwargs)\n",
        "\n",
        "def resnet101(**kwargs):\n",
        "    return ResNet(Bottleneck, [3,4,23,3], **kwargs)\n",
        "\n",
        "def resnet152(**kwargs):\n",
        "    return ResNet(Bottleneck, [3,8,36,3], **kwargs)"
      ],
      "metadata": {
        "id": "mLyEeBhqa1EY"
      },
      "execution_count": 5,
      "outputs": []
    },
    {
      "cell_type": "markdown",
      "source": [
        "# 2. Modified ResNet (designed for CIFAR-10/100 dataset)"
      ],
      "metadata": {
        "id": "u5ah_L-1yJT2"
      }
    },
    {
      "cell_type": "code",
      "source": [
        "# Only use Basic Block for CIFAR-10/100\n",
        "class BasicBlock(nn.Module):\n",
        "    def __init__(self, in_channels, out_channels, stride = 1, projection = None):\n",
        "        super().__init__()\n",
        "\n",
        "        self.residual = nn.Sequential(nn.Conv2d(in_channels, out_channels, 3, stride=stride, padding=1, bias=False),\n",
        "                                      nn.BatchNorm2d(out_channels),\n",
        "                                      nn.ReLU(inplace=True),\n",
        "                                      nn.Conv2d(out_channels, out_channels, 3, padding=1, bias=False),\n",
        "                                      nn.BatchNorm2d(out_channels))\n",
        "        self.projection = projection\n",
        "        self.relu = nn.ReLU(inplace=True)\n",
        "\n",
        "    def forward(self, x):\n",
        "        residual = self.residual(x)\n",
        "\n",
        "        if self.projection is not None:\n",
        "            shortcut = self.projection(x)\n",
        "        else:\n",
        "            shortcut = x\n",
        "\n",
        "        out = self.relu(residual + shortcut)\n",
        "        return out\n",
        "\n",
        "\n",
        "# ResNet Architecture (CIFAR-10)\n",
        "class ResNet_c(nn.Module):\n",
        "    def __init__(self, block, num_block_list, num_classes = 10): # num_classes = 100\n",
        "        super().__init__()\n",
        "\n",
        "        self.in_channels = 16\n",
        "\n",
        "        # change on the first conv layer (output dim = 16, kernel size = 3)\n",
        "        self.conv1 = nn.Conv2d(3, 16, kernel_size=3, stride=1, padding=1, bias=False)\n",
        "        self.bn1 = nn.BatchNorm2d(16)\n",
        "        self.relu = nn.ReLU(inplace=True)\n",
        "\n",
        "        # 3 stages\n",
        "        # feature map size = 32x32x16\n",
        "        self.stage1 = self.make_stage(block, 16, num_block_list[0], stride=1)\n",
        "        # feature map size = 16x16x32\n",
        "        self.stage2 = self.make_stage(block, 32, num_block_list[1], stride=2)\n",
        "        # feature map size = 8x8x64\n",
        "        self.stage3 = self.make_stage(block, 64, num_block_list[2], stride=2)\n",
        "\n",
        "        self.avgpool = nn.AdaptiveAvgPool2d((1,1))\n",
        "        self.fc = nn.Linear(64, num_classes)\n",
        "\n",
        "        # Weight initialization\n",
        "        for m in self.modules():\n",
        "            if isinstance(m, nn.Conv2d):\n",
        "                nn.init.kaiming_normal_(m.weight, mode='fan_out', nonlinearity='relu')\n",
        "            elif isinstance(m, nn.BatchNorm2d):\n",
        "                nn.init.constant_(m.weight, 1)\n",
        "                nn.init.constant_(m.bias, 0)\n",
        "\n",
        "    def make_stage(self, block, out_channels, num_blocks, stride=1):\n",
        "        # projection shortcut when downsampling / dimension-matching\n",
        "        if stride != 1 or self.in_channels != out_channels:\n",
        "            projection = nn.Sequential(\n",
        "                nn.Conv2d(self.in_channels, out_channels, 1, stride=stride, bias=False),\n",
        "                nn.BatchNorm2d(out_channels))\n",
        "        # identity shortcut otherwise\n",
        "        else:\n",
        "            projection = None\n",
        "\n",
        "        layers = [block(self.in_channels, out_channels, stride, projection)] # projection only in the first block\n",
        "        self.in_channels = out_channels\n",
        "\n",
        "        for _ in range(1, num_blocks):\n",
        "            layers += [block(self.in_channels, out_channels)]\n",
        "\n",
        "        return nn.Sequential(*layers)\n",
        "\n",
        "    def forward(self, x):\n",
        "        x = self.conv1(x)\n",
        "        x = self.bn1(x)\n",
        "        x = self.relu(x)\n",
        "\n",
        "        x = self.stage1(x)\n",
        "        x = self.stage2(x)\n",
        "        x = self.stage3(x)\n",
        "\n",
        "        x = self.avgpool(x)\n",
        "        x = torch.flatten(x, 1)\n",
        "        x = self.fc(x)\n",
        "\n",
        "        return x"
      ],
      "metadata": {
        "id": "QcOiV7M7yLsU"
      },
      "execution_count": 7,
      "outputs": []
    },
    {
      "cell_type": "code",
      "source": [
        "# ResNet models (CIFAR-10)\n",
        "def resnet20():\n",
        "    return ResNet_c(BasicBlock, [3, 3, 3])\n",
        "\n",
        "def resnet32():\n",
        "    return ResNet_c(BasicBlock, [5, 5, 5])\n",
        "\n",
        "def resnet44():\n",
        "    return ResNet_c(BasicBlock, [7, 7, 7])\n",
        "\n",
        "def resnet56():\n",
        "    return ResNet_c(BasicBlock, [9, 9, 9])\n",
        "\n",
        "def resnet110():\n",
        "    return ResNet_c(BasicBlock, [18, 18, 18])\n",
        "\n",
        "def resnet1202():\n",
        "    return ResNet_c(BasicBlock, [200, 200, 200])"
      ],
      "metadata": {
        "id": "c0oYluqMEj_n"
      },
      "execution_count": 8,
      "outputs": []
    }
  ]
}
